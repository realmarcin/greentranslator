{
 "cells": [
  {
   "cell_type": "code",
   "execution_count": 1,
   "metadata": {
    "collapsed": false,
    "deletable": true,
    "editable": true
   },
   "outputs": [],
   "source": [
    "import pprint\n",
    "\"\"\" Import the GreenTranslator API wrapper. \"\"\"\n",
    "from greentranslator.api import GreenTranslator\n",
    "\n",
    "\"\"\" Create an instance. \"\"\"\n",
    "translator = GreenTranslator ()"
   ]
  },
  {
   "cell_type": "code",
   "execution_count": 2,
   "metadata": {
    "collapsed": false,
    "deletable": true,
    "editable": true
   },
   "outputs": [
    {
     "name": "stdout",
     "output_type": "stream",
     "text": [
      "[ {'latitude': '35.7795897', 'longitude': '-78.6381787'},\n",
      "  {'latitude': '35.9131996', 'longitude': '-79.0558445'},\n",
      "  {'latitude': '35.9940329', 'longitude': '-78.898619'}]\n"
     ]
    }
   ],
   "source": [
    "\"\"\" Query the exposure service. TODO: exercise other exposure endpoints. \"\"\"\n",
    "exposure = translator.\\\n",
    "    get_exposures().\\\n",
    "    get_exposure_by_area (exposure_type = 'pm25',\n",
    "                        latitude      = '',\n",
    "                        longitude     = '',\n",
    "                        radius        = '0')\n",
    "pprint.pprint (exposure, indent=2)"
   ]
  },
  {
   "cell_type": "code",
   "execution_count": 3,
   "metadata": {
    "collapsed": false,
    "deletable": true,
    "editable": true
   },
   "outputs": [
    {
     "name": "stdout",
     "output_type": "stream",
     "text": [
      "[ 'Tetracycline',\n",
      "  'Topotecan',\n",
      "  'Troglitazone',\n",
      "  'Thiabendazole',\n",
      "  'Torasemide',\n",
      "  'Thiopental',\n",
      "  'Trifluoperazine',\n",
      "  'Theophylline',\n",
      "  'Rosiglitazone',\n",
      "  'Raloxifene',\n",
      "  'Propranolol',\n",
      "  'Fenofibrate',\n",
      "  'Vitamin E',\n",
      "  'Nitroglycerin',\n",
      "  'Pentoxifylline',\n",
      "  'Phenol',\n",
      "  'Methimazole',\n",
      "  'Phenylbutazone',\n",
      "  'Phenobarbital',\n",
      "  'Ethyl carbamate',\n",
      "  'Acetaminophen',\n",
      "  'Carmustine',\n",
      "  'Zileuton',\n",
      "  'Cilostazol',\n",
      "  '1,2-Dihydroxybenzene',\n",
      "  '2-(4-Morpholinyl)-8-Phenyl-4h-1-Benzopyran-4-One',\n",
      "  '(11-BETA)-11,21-DIHYDROXY-PREGN-4-ENE-3,20-DIONE',\n",
      "  '2H-1-BENZOPYRAN-2-ONE',\n",
      "  'Melphalan',\n",
      "  'Saquinavir',\n",
      "  'Dimethylformamide',\n",
      "  '3,4-Dihydroxycinnamic Acid',\n",
      "  '(5e,13e)-9,15-Dihydroxy-11-Oxoprosta-5,13-Dien-1-Oicacid',\n",
      "  'Glycerol',\n",
      "  'Carbachol',\n",
      "  'Imipramine',\n",
      "  'Clomipramine',\n",
      "  'Carbamyl-Choline',\n",
      "  'Gefitinib',\n",
      "  'Cyclophosphamide',\n",
      "  'Fluorouracil',\n",
      "  'Furosemide',\n",
      "  'Doxorubicin',\n",
      "  'Genistein',\n",
      "  'Enflurane',\n",
      "  'Melatonin',\n",
      "  'Ethanol',\n",
      "  'Iron',\n",
      "  'Diethylcarbamodithioic Acid',\n",
      "  'Vincristine',\n",
      "  'Vorinostat',\n",
      "  'Menadione',\n",
      "  'Vinblastine',\n",
      "  'Protoporphyrin Ix Containing Zn',\n",
      "  'N-(6-Aminohexyl)-5-Chloro-1-Naphthalenesulfonamide',\n",
      "  'Tretinoin',\n",
      "  '3-Methyl-Benzene-1,2-Diol',\n",
      "  '2,5-DI-(TERT-BUTYL)-1,4,BENZOHYDROQUINONE',\n",
      "  'Lindane',\n",
      "  'Isotretinoin',\n",
      "  '3-Chlorophenol',\n",
      "  '2-Allylphenol',\n",
      "  '4-Oxoretinol',\n",
      "  'Amitriptyline',\n",
      "  'Beclomethasone',\n",
      "  '7-Hydroxy-Pyrazolo[4,3-D]Pyrimidine',\n",
      "  'Berberine',\n",
      "  'Tamibarotene',\n",
      "  'Carbamazepine',\n",
      "  'Capecitabine',\n",
      "  'Bleomycin',\n",
      "  'Carvedilol',\n",
      "  'Bromocriptine',\n",
      "  'Butan-1-Ol',\n",
      "  'Chlorambucil',\n",
      "  'Bosentan',\n",
      "  'Busulfan',\n",
      "  'Cimetidine',\n",
      "  'Diclofenac',\n",
      "  'Diazepam',\n",
      "  'Diazoxide',\n",
      "  'Clioquinol',\n",
      "  'Diethylstilbestrol',\n",
      "  'Clofibrate',\n",
      "  'Clodronate',\n",
      "  'Clenbuterol',\n",
      "  'Deferoxamine',\n",
      "  'Diltiazem',\n",
      "  'Diflunisal',\n",
      "  'Ethacrynic acid',\n",
      "  'Dimethyl sulfoxide',\n",
      "  'Ethylisothiourea',\n",
      "  'S-Ethylisothiourea',\n",
      "  'Forskolin',\n",
      "  'Doxazosin',\n",
      "  'Etoricoxib',\n",
      "  'Indinavir',\n",
      "  'Imatinib',\n",
      "  'Hydroxyurea',\n",
      "  'Ifosfamide',\n",
      "  'Gemfibrozil',\n",
      "  'Hydralazine',\n",
      "  'Isoflurane',\n",
      "  'Halothane',\n",
      "  '2-Bromo-2-Chloro-1,1,1-Trifluoroethane',\n",
      "  'Sti-571',\n",
      "  'Imidazole',\n",
      "  'Imiquimod',\n",
      "  'Montelukast',\n",
      "  'Losartan',\n",
      "  'Ketoprofen',\n",
      "  'Minocycline',\n",
      "  'Nadolol',\n",
      "  'Methamphetamine',\n",
      "  'Marimastat',\n",
      "  'Mifepristone',\n",
      "  'Isoproterenol',\n",
      "  'Methyl Mercury Ion',\n",
      "  'Meclofenamic acid',\n",
      "  'Kaempherol',\n",
      "  'Phenytoin',\n",
      "  'Phenylephrine',\n",
      "  'Pioglitazone',\n",
      "  'Naloxone',\n",
      "  'Nelfinavir',\n",
      "  'Paroxetine',\n",
      "  'Aminoguanidine',\n",
      "  'Pentobarbital',\n",
      "  'Orciprenaline',\n",
      "  'Paricalcitol',\n",
      "  'NIMESULIDE',\n",
      "  'Ramipril',\n",
      "  'Pyrimethamine',\n",
      "  'Propofol',\n",
      "  'Ranitidine',\n",
      "  'Pravastatin',\n",
      "  '4-[3-(Cyclopentyloxy)-4-Methoxyphenyl]-2-Pyrrolidinone',\n",
      "  'Propylthiouracil',\n",
      "  'Probucol',\n",
      "  'Pyrazole',\n",
      "  'Sildenafil',\n",
      "  'Temozolomide',\n",
      "  'Sevoflurane',\n",
      "  'Selenocysteine',\n",
      "  '2-Methyl-2-Propanol',\n",
      "  'R-Styrene Oxide',\n",
      "  'Suramin',\n",
      "  'Terbutaline',\n",
      "  'Sertraline',\n",
      "  'Sulfinpyrazone']\n"
     ]
    }
   ],
   "source": [
    "\"\"\" \n",
    "3. What pediatric medications are available that act on the protein (gene) targets and biological pathways that are activated or inhibited by PM2.5 and ozone exposure?\n",
    "  - This query will be extended to be a building block for this query.\n",
    "  - Get drugs by condition. TODO: expand to specify a variety of related pheonotypes as parameters. \n",
    "\"\"\"\n",
    "drugs = translator.\\\n",
    "    get_medbiochem().\\\n",
    "    get_drugs_by_condition (conditions=[ \"d001249\" ])\n",
    "pprint.pprint (drugs, indent=2)"
   ]
  },
  {
   "cell_type": "code",
   "execution_count": 6,
   "metadata": {
    "collapsed": false,
    "deletable": true,
    "editable": true,
    "scrolled": true
   },
   "outputs": [
    {
     "name": "stdout",
     "output_type": "stream",
     "text": [
      "[ { 'is_human': True,\n",
      "    'kegg_path': 'http://chem2bio2rdf.org/kegg/resource/kegg_pathway/hsa04666',\n",
      "    'path_name': 'path:hsa04666 Fc gamma R-mediated phagocytosis - Homo '\n",
      "                 'sapiens (human)',\n",
      "    'uniprot_gene': 'http://chem2bio2rdf.org/uniprot/resource/gene/MAPK3'},\n",
      "  { 'is_human': True,\n",
      "    'kegg_path': 'http://chem2bio2rdf.org/kegg/resource/kegg_pathway/hsa04666',\n",
      "    'path_name': 'path:hsa04666 Fc gamma R-mediated phagocytosis - Homo '\n",
      "                 'sapiens (human)',\n",
      "    'uniprot_gene': 'http://chem2bio2rdf.org/uniprot/resource/gene/MAPK3'},\n",
      "  { 'is_human': True,\n",
      "    'kegg_path': 'http://chem2bio2rdf.org/kegg/resource/kegg_pathway/hsa00010',\n",
      "    'path_name': 'path:hsa00010 Glycolysis / Gluconeogenesis - Homo sapiens '\n",
      "                 '(human)',\n",
      "    'uniprot_gene': 'http://chem2bio2rdf.org/uniprot/resource/gene/ALDH2'}]\n"
     ]
    }
   ],
   "source": [
    "\"\"\" \n",
    "2. What protein (gene) targets and biological pathways are activated or inhibited by PM2.5 and ozone exposure?\n",
    "   - This note is a building block for the second component of this query.\n",
    "   - Get genes and pathways assoicated with a set of conditions. \n",
    "\"\"\"\n",
    "conditions = [ 'd001249', 'd003371', 'd001249' ]\n",
    "genes_paths = translator.\\\n",
    "    get_medbiochem().\\\n",
    "    get_genes_pathways_by_disease (diseases = conditions)\n",
    "pprint.pprint (genes_paths[:3], indent=2)"
   ]
  },
  {
   "cell_type": "code",
   "execution_count": 4,
   "metadata": {
    "collapsed": false,
    "deletable": true,
    "editable": true
   },
   "outputs": [
    {
     "name": "stdout",
     "output_type": "stream",
     "text": [
      "[ { 'conditionID': 'http://bio2rdf.org/mesh:D001247',\n",
      "    'stressorAgentName': 'Particulate Matter'},\n",
      "  { 'conditionID': 'http://bio2rdf.org/mesh:D005317',\n",
      "    'stressorAgentName': 'Particulate Matter'},\n",
      "  { 'conditionID': 'http://bio2rdf.org/mesh:D011297',\n",
      "    'stressorAgentName': 'Particulate Matter'},\n",
      "  { 'conditionID': 'http://bio2rdf.org/mesh:D011297',\n",
      "    'stressorAgentName': 'Particulate Matter'},\n",
      "  { 'conditionID': 'http://bio2rdf.org/mesh:D001724',\n",
      "    'stressorAgentName': 'Particulate Matter'}]\n"
     ]
    }
   ],
   "source": [
    "\"\"\" Get conditions associated with an environmental stressor agent. \"\"\"\n",
    "exposures = translator.\\\n",
    "    get_medbiochem().\\\n",
    "    get_exposure_conditions (stressorAgentIDs = [ 'D052638' ])\n",
    "pprint.pprint (exposures[:5], indent=2)"
   ]
  }
 ],
 "metadata": {
  "kernelspec": {
   "display_name": "Python 3",
   "language": "python",
   "name": "python3"
  },
  "language_info": {
   "codemirror_mode": {
    "name": "ipython",
    "version": 3
   },
   "file_extension": ".py",
   "mimetype": "text/x-python",
   "name": "python",
   "nbconvert_exporter": "python",
   "pygments_lexer": "ipython3",
   "version": "3.6.0"
  }
 },
 "nbformat": 4,
 "nbformat_minor": 2
}
