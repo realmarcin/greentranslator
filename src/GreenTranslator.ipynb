{
 "cells": [
  {
   "cell_type": "code",
   "execution_count": 16,
   "metadata": {
    "collapsed": false,
    "deletable": true,
    "editable": true
   },
   "outputs": [],
   "source": [
    "import pprint\n",
    "\"\"\" Import the GreenTranslator API wrapper. \"\"\"\n",
    "from greentranslator.api import GreenTranslator\n",
    "\n",
    "\"\"\" Create an instance. \"\"\"\n",
    "translator = GreenTranslator ()"
   ]
  },
  {
   "cell_type": "code",
   "execution_count": 17,
   "metadata": {
    "collapsed": false,
    "deletable": true,
    "editable": true
   },
   "outputs": [
    {
     "name": "stdout",
     "output_type": "stream",
     "text": [
      "[ {'latitude': '35.7795897', 'longitude': '-78.6381787'},\n",
      "  {'latitude': '35.9131996', 'longitude': '-79.0558445'},\n",
      "  {'latitude': '35.9940329', 'longitude': '-78.898619'}]\n"
     ]
    }
   ],
   "source": [
    "\"\"\" Query the exposure service. TODO: exercise other exposure endpoints. \"\"\"\n",
    "exposure = translator.\\\n",
    "    get_exposures().\\\n",
    "    get_exposure_by_area (exposure_type = 'pm25',\n",
    "                        latitude      = '',\n",
    "                        longitude     = '',\n",
    "                        radius        = '0')\n",
    "pprint.pprint (exposure, indent=2)"
   ]
  },
  {
   "cell_type": "code",
   "execution_count": 18,
   "metadata": {
    "collapsed": false,
    "deletable": true,
    "editable": true
   },
   "outputs": [
    {
     "name": "stdout",
     "output_type": "stream",
     "text": [
      "[ 'Theophylline',\n",
      "  'Beclomethasone',\n",
      "  'Montelukast',\n",
      "  'Fluticasone Propionate',\n",
      "  'Dyphylline',\n",
      "  'Hydrocortisone',\n",
      "  'Salmeterol',\n",
      "  'Formoterol',\n",
      "  'Chlorpheniramine',\n",
      "  'Aminophylline',\n",
      "  'Vitamin E',\n",
      "  'Flunisolide',\n",
      "  'Nedocromil',\n",
      "  'Zileuton',\n",
      "  'Mometasone',\n",
      "  'Enprofylline',\n",
      "  'Isoproterenol',\n",
      "  'Omalizumab',\n",
      "  'Isoetharine',\n",
      "  'Zafirlukast',\n",
      "  'Cinalukast',\n",
      "  'Terbutaline']\n"
     ]
    }
   ],
   "source": [
    "\"\"\" Get drugs by condition. TODO: expand to specify a variety of related pheonotypes as parameters. \"\"\"\n",
    "drugs = translator.\\\n",
    "    get_medbiochem().\\\n",
    "    get_drugs_by_disease (\"asthma\")\n",
    "pprint.pprint (drugs, indent=2)"
   ]
  },
  {
   "cell_type": "code",
   "execution_count": 19,
   "metadata": {
    "collapsed": false,
    "deletable": true,
    "editable": true,
    "scrolled": true
   },
   "outputs": [
    {
     "name": "stdout",
     "output_type": "stream",
     "text": [
      "[ { 'is_human': True,\n",
      "    'kegg_path': 'http://chem2bio2rdf.org/kegg/resource/kegg_pathway/hsa00010',\n",
      "    'path_name': 'path:hsa00010 Glycolysis / Gluconeogenesis - Homo sapiens '\n",
      "                 '(human)',\n",
      "    'uniprot_gene': 'http://chem2bio2rdf.org/uniprot/resource/gene/ALDH2'},\n",
      "  { 'is_human': True,\n",
      "    'kegg_path': 'http://chem2bio2rdf.org/kegg/resource/kegg_pathway/hsa00010',\n",
      "    'path_name': 'path:hsa00010 Glycolysis / Gluconeogenesis - Homo sapiens '\n",
      "                 '(human)',\n",
      "    'uniprot_gene': 'http://chem2bio2rdf.org/uniprot/resource/gene/ALDH2'},\n",
      "  { 'is_human': True,\n",
      "    'kegg_path': 'http://chem2bio2rdf.org/kegg/resource/kegg_pathway/hsa00010',\n",
      "    'path_name': 'path:hsa00010 Glycolysis / Gluconeogenesis - Homo sapiens '\n",
      "                 '(human)',\n",
      "    'uniprot_gene': 'http://chem2bio2rdf.org/uniprot/resource/gene/ALDH2'}]\n"
     ]
    }
   ],
   "source": [
    "\"\"\" Get genes and pathways assoicated with a set of conditions. \"\"\"\n",
    "conditions = [ 'd001249', 'd003371', 'd001249' ]\n",
    "genes_paths = translator.\\\n",
    "    get_medbiochem().\\\n",
    "    get_genes_pathways_by_disease (diseases = conditions)\n",
    "pprint.pprint (genes_paths[:3], indent=2)"
   ]
  },
  {
   "cell_type": "code",
   "execution_count": 20,
   "metadata": {
    "collapsed": false,
    "deletable": true,
    "editable": true
   },
   "outputs": [
    {
     "name": "stdout",
     "output_type": "stream",
     "text": [
      "[ { 'conditionID': 'http://bio2rdf.org/mesh:D001247',\n",
      "    'stressorAgentName': 'Particulate Matter'},\n",
      "  { 'conditionID': 'http://bio2rdf.org/mesh:D005317',\n",
      "    'stressorAgentName': 'Particulate Matter'},\n",
      "  { 'conditionID': 'http://bio2rdf.org/mesh:D011297',\n",
      "    'stressorAgentName': 'Particulate Matter'},\n",
      "  { 'conditionID': 'http://bio2rdf.org/mesh:D011297',\n",
      "    'stressorAgentName': 'Particulate Matter'},\n",
      "  { 'conditionID': 'http://bio2rdf.org/mesh:D001724',\n",
      "    'stressorAgentName': 'Particulate Matter'}]\n"
     ]
    }
   ],
   "source": [
    "\"\"\" Get conditions associated with an environmental stressor agent. \"\"\"\n",
    "exposures = translator.\\\n",
    "    get_medbiochem().\\\n",
    "    get_exposure_conditions (stressorAgentIDs = [ 'D052638' ])\n",
    "pprint.pprint (exposures[:5], indent=2)"
   ]
  },
  {
   "cell_type": "code",
   "execution_count": null,
   "metadata": {
    "collapsed": true,
    "deletable": true,
    "editable": true
   },
   "outputs": [],
   "source": []
  }
 ],
 "metadata": {
  "kernelspec": {
   "display_name": "Python 3",
   "language": "python",
   "name": "python3"
  },
  "language_info": {
   "codemirror_mode": {
    "name": "ipython",
    "version": 3
   },
   "file_extension": ".py",
   "mimetype": "text/x-python",
   "name": "python",
   "nbconvert_exporter": "python",
   "pygments_lexer": "ipython3",
   "version": "3.6.0"
  }
 },
 "nbformat": 4,
 "nbformat_minor": 2
}
