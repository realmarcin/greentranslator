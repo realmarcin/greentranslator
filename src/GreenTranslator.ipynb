{
 "cells": [
  {
   "cell_type": "code",
   "execution_count": 1,
   "metadata": {
    "collapsed": false,
    "deletable": true,
    "editable": true
   },
   "outputs": [],
   "source": [
    "import pprint\n",
    "\n",
    "\"\"\" Import the GreenTranslator API wrapper. \"\"\"\n",
    "from greentranslator.api import GreenTranslator\n",
    "\n",
    "\"\"\" Create an instance. \"\"\"\n",
    "translator = GreenTranslator ()"
   ]
  },
  {
   "cell_type": "code",
   "execution_count": 2,
   "metadata": {
    "collapsed": false,
    "deletable": true,
    "editable": true
   },
   "outputs": [
    {
     "name": "stdout",
     "output_type": "stream",
     "text": [
      "[ {'latitude': '35.7795897', 'longitude': '-78.6381787'},\n",
      "  {'latitude': '35.9131996', 'longitude': '-79.0558445'},\n",
      "  {'latitude': '35.9940329', 'longitude': '-78.898619'}]\n"
     ]
    }
   ],
   "source": [
    "\"\"\" Query the exposure service. TODO: exercise other exposure endpoints. \"\"\"\n",
    "exposure = translator. \\\n",
    "    get_exposures(). \\\n",
    "    get_exposure_by_area (exposure_type = 'pm25',\n",
    "                        latitude      = '',\n",
    "                        longitude     = '',\n",
    "                        radius        = '0')\n",
    "pprint.pprint (exposure, indent=2)"
   ]
  },
  {
   "cell_type": "code",
   "execution_count": 3,
   "metadata": {
    "collapsed": false,
    "deletable": true,
    "editable": true
   },
   "outputs": [
    {
     "name": "stdout",
     "output_type": "stream",
     "text": [
      "[ 'Melphalan',\n",
      "  'Saquinavir',\n",
      "  'Gefitinib',\n",
      "  'Cyclophosphamide',\n",
      "  'Fluorouracil',\n",
      "  'Furosemide',\n",
      "  'Doxorubicin',\n",
      "  'Genistein',\n",
      "  'Enflurane',\n",
      "  'Melatonin']\n"
     ]
    }
   ],
   "source": [
    "\"\"\" \n",
    "3. What pediatric medications are available that act on the protein (gene) targets and biological pathways that are activated or inhibited by PM2.5 and ozone exposure?\n",
    "  - This query will be extended to be a building block for this query.\n",
    "  - Get drugs by condition. \n",
    "\"\"\"\n",
    "drugs = translator.\\\n",
    "    get_medbiochem().\\\n",
    "    get_drugs_by_condition (conditions=[ \"d001249\" ])\n",
    "pprint.pprint (drugs[:10], indent=2)"
   ]
  },
  {
   "cell_type": "code",
   "execution_count": 6,
   "metadata": {
    "collapsed": false,
    "deletable": true,
    "editable": true,
    "scrolled": true
   },
   "outputs": [
    {
     "name": "stdout",
     "output_type": "stream",
     "text": [
      "[ { 'human  ': True,\n",
      "    'keggPath': 'http://chem2bio2rdf.org/kegg/resource/kegg_pathway/hsa00010',\n",
      "    'pathName': 'path:hsa00010 Glycolysis / Gluconeogenesis - Homo sapiens '\n",
      "                '(human)',\n",
      "    'uniprotGene': 'http://chem2bio2rdf.org/uniprot/resource/gene/ALDH2'},\n",
      "  { 'human  ': True,\n",
      "    'keggPath': 'http://chem2bio2rdf.org/kegg/resource/kegg_pathway/hsa00010',\n",
      "    'pathName': 'path:hsa00010 Glycolysis / Gluconeogenesis - Homo sapiens '\n",
      "                '(human)',\n",
      "    'uniprotGene': 'http://chem2bio2rdf.org/uniprot/resource/gene/ALDH2'},\n",
      "  { 'human  ': True,\n",
      "    'keggPath': 'http://chem2bio2rdf.org/kegg/resource/kegg_pathway/hsa00010',\n",
      "    'pathName': 'path:hsa00010 Glycolysis / Gluconeogenesis - Homo sapiens '\n",
      "                '(human)',\n",
      "    'uniprotGene': 'http://chem2bio2rdf.org/uniprot/resource/gene/ALDH2'}]\n"
     ]
    }
   ],
   "source": [
    "\"\"\" \n",
    "2. What protein (gene) targets and biological pathways are activated or inhibited by PM2.5 and ozone exposure?\n",
    "   - This note is a building block for the second component of this query.\n",
    "   - Get genes and pathways assoicated with a set of conditions. \n",
    "\"\"\"\n",
    "conditions = [ 'd001249', 'd003371', 'd001249' ]\n",
    "genes_paths = translator.\\\n",
    "    get_medbiochem().\\\n",
    "    get_genes_pathways_by_disease (diseases = conditions)\n",
    "pprint.pprint (genes_paths[:3], indent=2)"
   ]
  },
  {
   "cell_type": "code",
   "execution_count": 5,
   "metadata": {
    "collapsed": false,
    "deletable": true,
    "editable": true
   },
   "outputs": [
    {
     "name": "stdout",
     "output_type": "stream",
     "text": [
      "[ { 'chemical': 'http://bio2rdf.org/mesh:D052638',\n",
      "    'gene': 'http://chem2bio2rdf.org/uniprot/resource/gene/MAPK1',\n",
      "    'human': True,\n",
      "    'pathID': 'hsa04664',\n",
      "    'pathName': 'path:hsa04664 Fc epsilon RI signaling pathway - Homo sapiens '\n",
      "                '(human)',\n",
      "    'pathway': 'http://chem2bio2rdf.org/kegg/resource/kegg_pathway/hsa04664'},\n",
      "  { 'chemical': 'http://bio2rdf.org/mesh:D052638',\n",
      "    'gene': 'http://chem2bio2rdf.org/uniprot/resource/gene/MAPK1',\n",
      "    'human': True,\n",
      "    'pathID': 'hsa04664',\n",
      "    'pathName': 'path:hsa04664 Fc epsilon RI signaling pathway - Homo sapiens '\n",
      "                '(human)',\n",
      "    'pathway': 'http://chem2bio2rdf.org/kegg/resource/kegg_pathway/hsa04664'},\n",
      "  { 'chemical': 'http://bio2rdf.org/mesh:D052638',\n",
      "    'gene': 'http://chem2bio2rdf.org/uniprot/resource/gene/MAPK1',\n",
      "    'human': True,\n",
      "    'pathID': 'hsa04664',\n",
      "    'pathName': 'path:hsa04664 Fc epsilon RI signaling pathway - Homo sapiens '\n",
      "                '(human)',\n",
      "    'pathway': 'http://chem2bio2rdf.org/kegg/resource/kegg_pathway/hsa04664'},\n",
      "  { 'chemical': 'http://bio2rdf.org/mesh:D052638',\n",
      "    'gene': 'http://chem2bio2rdf.org/uniprot/resource/gene/MAPK1',\n",
      "    'human': True,\n",
      "    'pathID': 'hsa04666',\n",
      "    'pathName': 'path:hsa04666 Fc gamma R-mediated phagocytosis - Homo sapiens '\n",
      "                '(human)',\n",
      "    'pathway': 'http://chem2bio2rdf.org/kegg/resource/kegg_pathway/hsa04666'},\n",
      "  { 'chemical': 'http://bio2rdf.org/mesh:D052638',\n",
      "    'gene': 'http://chem2bio2rdf.org/uniprot/resource/gene/MAPK1',\n",
      "    'human': True,\n",
      "    'pathID': 'hsa04666',\n",
      "    'pathName': 'path:hsa04666 Fc gamma R-mediated phagocytosis - Homo sapiens '\n",
      "                '(human)',\n",
      "    'pathway': 'http://chem2bio2rdf.org/kegg/resource/kegg_pathway/hsa04666'}]\n"
     ]
    }
   ],
   "source": [
    "\"\"\" Get genes and pathways involved in exposure to a chemical. We'll use this to determine the \n",
    "    effects of PM2.5, or, more generally, of 'Particulate Matter', the MeSH term. \"\"\" \n",
    "exposures = translator.\\\n",
    "    get_medbiochem().\\\n",
    "    get_exposure_conditions (chemicals = [ 'D052638' ])\n",
    "pprint.pprint (exposures[:5], indent=2)"
   ]
  },
  {
   "cell_type": "code",
   "execution_count": 8,
   "metadata": {
    "collapsed": false,
    "deletable": true,
    "editable": true
   },
   "outputs": [
    {
     "name": "stdout",
     "output_type": "stream",
     "text": [
      "prefix chemgene: <http://chem2bio2rdf.org/ctd/resource/ctd_chem_gene/>\n",
      "prefix mesh:     <http://bio2rdf.org/mesh:>\n",
      "prefix ctd:      <http://chem2bio2rdf.org/ctd/resource/>\n",
      "prefix kegg:     <http://chem2bio2rdf.org/kegg/resource/>\n",
      "prefix pharmgkb: <http://chem2bio2rdf.org/pharmgkb/resource/>\n",
      "\n",
      "select ?chemical ?gene ?kegg_pathway ?pathway_name ?pathway_id where {\n",
      "\n",
      "   values ( ?chemical ) {\n",
      "      $chemicals\n",
      "   }\n",
      "\n",
      "   ?chemgene      ctd:chemicalid       ?chemical ;\n",
      "                  ctd:interaction      ?interaction ;\n",
      "                  ctd:interactiontypes ?interaction_types;\n",
      "                  ctd:gene             ?gene .\n",
      " \n",
      "   ?pharmgkb_gene pharmgkb:Symbol      ?gene ;\n",
      "                  pharmgkb:UniProt_Id  ?uniprotid .\n",
      "   \n",
      "   ?kegg_pathway  kegg:protein         ?uniprotid ;\n",
      "                  kegg:Pathway_name    ?pathway_name ;\n",
      "                  kegg:description     ?pathway_descr ;\n",
      "                  kegg:pathwayid       ?pathway_id ;\n",
      "                  kegg:ID              ?pathway_nid .\n",
      "}\n"
     ]
    }
   ],
   "source": [
    "print (open ('greentranslator/query/ctd_gene_expo_disease.sparql').read ())"
   ]
  },
  {
   "cell_type": "code",
   "execution_count": 9,
   "metadata": {
    "collapsed": false
   },
   "outputs": [
    {
     "name": "stdout",
     "output_type": "stream",
     "text": [
      "prefix kegg:      <http://chem2bio2rdf.org/kegg/resource/>\n",
      "prefix pharmgkb:  <http://chem2bio2rdf.org/pharmgkb/resource/>\n",
      "prefix drugbank:  <http://chem2bio2rdf.org/drugbank/resource/>\n",
      "prefix pubchem:   <http://chem2bio2rdf.org/pubchem/resource/>\n",
      "prefix ctd:       <http://chem2bio2rdf.org/ctd/resource/>\n",
      "prefix omim:      <http://chem2bio2rdf.org/omim/resource/>\n",
      "prefix mesh:      <http://bio2rdf.org/mesh:>\n",
      "\n",
      "select ?diseaseID ?drugGenericName ?swissProtID ?uniprotGeneID ?geneBankID ?pathwayName ?keggPath where {\n",
      "\n",
      "    ?keggPath    kegg:protein                ?swissProtID ;\n",
      "                 kegg:Pathway_name           ?pathwayName .\n",
      "    ?keggInter   kegg:cid                    ?pubchemCID .\n",
      "\n",
      "    ?dbInter     drugbank:GeneBank_ID        ?geneBankID ;\n",
      "                 drugbank:SwissProt_ID       ?swissProtID ;\n",
      "                 drugbank:gene               ?uniprotGeneID ;\n",
      "                 drugbank:Name               ?name ;\n",
      "                 drugbank:DBID               ?drugID .\n",
      "  \n",
      "    ?drugID      drugbank:CID                ?pubchemCID ;\n",
      "                 drugbank:Generic_Name       ?drugGenericName .\n",
      "\n",
      "    ?ctd_disease ctd:diseaseid               ?diseaseID ;\n",
      "                 ctd:cid                     ?pubchemCID .\n",
      " \n",
      "    values ( ?diseaseID ) {\n",
      "        ${diseaseMeshIDList}\n",
      "#            ( mesh:d001249 ) ( mesh:d003371 ) ( mesh:d001249 )\n",
      "    }\n",
      "}\n",
      "ORDER BY ?diseaseName\n",
      "\n"
     ]
    }
   ],
   "source": [
    "print (open('greentranslator/query/genes_pathways_by_disease.sparql').read ())"
   ]
  },
  {
   "cell_type": "code",
   "execution_count": null,
   "metadata": {
    "collapsed": true
   },
   "outputs": [],
   "source": []
  }
 ],
 "metadata": {
  "kernelspec": {
   "display_name": "Python 3",
   "language": "python",
   "name": "python3"
  },
  "language_info": {
   "codemirror_mode": {
    "name": "ipython",
    "version": 3
   },
   "file_extension": ".py",
   "mimetype": "text/x-python",
   "name": "python",
   "nbconvert_exporter": "python",
   "pygments_lexer": "ipython3",
   "version": "3.6.0"
  }
 },
 "nbformat": 4,
 "nbformat_minor": 2
}
