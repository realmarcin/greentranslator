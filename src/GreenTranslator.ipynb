{
 "cells": [
  {
   "cell_type": "code",
   "execution_count": 1,
   "metadata": {
    "collapsed": false,
    "deletable": true,
    "editable": true
   },
   "outputs": [],
   "source": [
    "import pprint\n",
    "\"\"\" Import the GreenTranslator API wrapper. \"\"\"\n",
    "from greentranslator.api import GreenTranslator\n",
    "\n",
    "\"\"\" Create an instance. \"\"\"\n",
    "translator = GreenTranslator ()"
   ]
  },
  {
   "cell_type": "code",
   "execution_count": 2,
   "metadata": {
    "collapsed": false,
    "deletable": true,
    "editable": true
   },
   "outputs": [
    {
     "name": "stdout",
     "output_type": "stream",
     "text": [
      "[ {'latitude': '35.7795897', 'longitude': '-78.6381787'},\n",
      "  {'latitude': '35.9131996', 'longitude': '-79.0558445'},\n",
      "  {'latitude': '35.9940329', 'longitude': '-78.898619'}]\n"
     ]
    }
   ],
   "source": [
    "\"\"\" Query the exposure service. TODO: exercise other exposure endpoints. \"\"\"\n",
    "exposure = translator.\\\n",
    "    get_exposures().\\\n",
    "    get_exposure_by_area (exposure_type = 'pm25',\n",
    "                        latitude      = '',\n",
    "                        longitude     = '',\n",
    "                        radius        = '0')\n",
    "pprint.pprint (exposure, indent=2)"
   ]
  },
  {
   "cell_type": "code",
   "execution_count": 5,
   "metadata": {
    "collapsed": false,
    "deletable": true,
    "editable": true
   },
   "outputs": [
    {
     "name": "stdout",
     "output_type": "stream",
     "text": [
      "[ 'Dimethylformamide',\n",
      "  '3,4-Dihydroxycinnamic Acid',\n",
      "  '(5e,13e)-9,15-Dihydroxy-11-Oxoprosta-5,13-Dien-1-Oicacid',\n",
      "  'Glycerol',\n",
      "  'Carbachol',\n",
      "  'Imipramine',\n",
      "  'Clomipramine',\n",
      "  'Carbamyl-Choline',\n",
      "  'Acetaminophen',\n",
      "  'Cyclophosphamide']\n"
     ]
    }
   ],
   "source": [
    "\"\"\" \n",
    "3. What pediatric medications are available that act on the protein (gene) targets and biological pathways that are activated or inhibited by PM2.5 and ozone exposure?\n",
    "  - This query will be extended to be a building block for this query.\n",
    "  - Get drugs by condition. \n",
    "\"\"\"\n",
    "drugs = translator.\\\n",
    "    get_medbiochem().\\\n",
    "    get_drugs_by_condition (conditions=[ \"d001249\" ])\n",
    "pprint.pprint (drugs[:10], indent=2)"
   ]
  },
  {
   "cell_type": "code",
   "execution_count": 6,
   "metadata": {
    "collapsed": false,
    "deletable": true,
    "editable": true,
    "scrolled": true
   },
   "outputs": [
    {
     "name": "stdout",
     "output_type": "stream",
     "text": [
      "[ { 'is_human': True,\n",
      "    'kegg_path': 'http://chem2bio2rdf.org/kegg/resource/kegg_pathway/hsa04666',\n",
      "    'path_name': 'path:hsa04666 Fc gamma R-mediated phagocytosis - Homo '\n",
      "                 'sapiens (human)',\n",
      "    'uniprot_gene': 'http://chem2bio2rdf.org/uniprot/resource/gene/MAPK3'},\n",
      "  { 'is_human': True,\n",
      "    'kegg_path': 'http://chem2bio2rdf.org/kegg/resource/kegg_pathway/hsa04666',\n",
      "    'path_name': 'path:hsa04666 Fc gamma R-mediated phagocytosis - Homo '\n",
      "                 'sapiens (human)',\n",
      "    'uniprot_gene': 'http://chem2bio2rdf.org/uniprot/resource/gene/MAPK3'},\n",
      "  { 'is_human': True,\n",
      "    'kegg_path': 'http://chem2bio2rdf.org/kegg/resource/kegg_pathway/hsa00010',\n",
      "    'path_name': 'path:hsa00010 Glycolysis / Gluconeogenesis - Homo sapiens '\n",
      "                 '(human)',\n",
      "    'uniprot_gene': 'http://chem2bio2rdf.org/uniprot/resource/gene/ALDH2'}]\n"
     ]
    }
   ],
   "source": [
    "\"\"\" \n",
    "2. What protein (gene) targets and biological pathways are activated or inhibited by PM2.5 and ozone exposure?\n",
    "   - This note is a building block for the second component of this query.\n",
    "   - Get genes and pathways assoicated with a set of conditions. \n",
    "\"\"\"\n",
    "conditions = [ 'd001249', 'd003371', 'd001249' ]\n",
    "genes_paths = translator.\\\n",
    "    get_medbiochem().\\\n",
    "    get_genes_pathways_by_disease (diseases = conditions)\n",
    "pprint.pprint (genes_paths[:3], indent=2)"
   ]
  },
  {
   "cell_type": "code",
   "execution_count": 4,
   "metadata": {
    "collapsed": false,
    "deletable": true,
    "editable": true
   },
   "outputs": [
    {
     "name": "stdout",
     "output_type": "stream",
     "text": [
      "[ { 'conditionID': 'http://bio2rdf.org/mesh:D001247',\n",
      "    'stressorAgentName': 'Particulate Matter'},\n",
      "  { 'conditionID': 'http://bio2rdf.org/mesh:D005317',\n",
      "    'stressorAgentName': 'Particulate Matter'},\n",
      "  { 'conditionID': 'http://bio2rdf.org/mesh:D011297',\n",
      "    'stressorAgentName': 'Particulate Matter'},\n",
      "  { 'conditionID': 'http://bio2rdf.org/mesh:D011297',\n",
      "    'stressorAgentName': 'Particulate Matter'},\n",
      "  { 'conditionID': 'http://bio2rdf.org/mesh:D001724',\n",
      "    'stressorAgentName': 'Particulate Matter'}]\n"
     ]
    }
   ],
   "source": [
    "\"\"\" Get conditions associated with an environmental stressor agent. \"\"\"\n",
    "exposures = translator.\\\n",
    "    get_medbiochem().\\\n",
    "    get_exposure_conditions (stressorAgentIDs = [ 'D052638' ])\n",
    "pprint.pprint (exposures[:5], indent=2)"
   ]
  }
 ],
 "metadata": {
  "kernelspec": {
   "display_name": "Python 3",
   "language": "python",
   "name": "python3"
  },
  "language_info": {
   "codemirror_mode": {
    "name": "ipython",
    "version": 3
   },
   "file_extension": ".py",
   "mimetype": "text/x-python",
   "name": "python",
   "nbconvert_exporter": "python",
   "pygments_lexer": "ipython3",
   "version": "3.6.0"
  }
 },
 "nbformat": 4,
 "nbformat_minor": 2
}
