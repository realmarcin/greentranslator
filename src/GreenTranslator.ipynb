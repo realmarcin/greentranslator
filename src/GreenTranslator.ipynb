{
 "cells": [
  {
   "cell_type": "code",
   "execution_count": 1,
   "metadata": {
    "collapsed": false,
    "deletable": true,
    "editable": true
   },
   "outputs": [],
   "source": [
    "import pprint\n",
    "\n",
    "\"\"\" Import the GreenTranslator API wrapper. \"\"\"\n",
    "from greentranslator.api import GreenTranslator\n",
    "\n",
    "\"\"\" Create an instance. \"\"\"\n",
    "translator = GreenTranslator ()"
   ]
  },
  {
   "cell_type": "code",
   "execution_count": 6,
   "metadata": {
    "collapsed": false,
    "deletable": true,
    "editable": true,
    "scrolled": false
   },
   "outputs": [
    {
     "name": "stdout",
     "output_type": "stream",
     "text": [
      "None\n"
     ]
    }
   ],
   "source": [
    "\"\"\"\n",
    "> Environmental-Exposures-KS:\n",
    "  This endpoint enumerates available coordinates.\n",
    "  It's for prototyping purposes since we have a limited data set. \"\"\"\n",
    "exposure = translator.exposures. \\\n",
    "    get_by_coordinates (exposure_type = 'pm25',\n",
    "                        latitude      = '',\n",
    "                        longitude     = '',\n",
    "                        radius        = '0')\n",
    "pprint.pprint (exposure, indent=2)\n",
    "    "
   ]
  },
  {
   "cell_type": "code",
   "execution_count": 7,
   "metadata": {
    "collapsed": false,
    "deletable": true,
    "editable": true
   },
   "outputs": [
    {
     "ename": "TypeError",
     "evalue": "'NoneType' object is not subscriptable",
     "output_type": "error",
     "traceback": [
      "\u001b[0;31m---------------------------------------------------------------------------\u001b[0m",
      "\u001b[0;31mTypeError\u001b[0m                                 Traceback (most recent call last)",
      "\u001b[0;32m<ipython-input-7-af27e6c85cb2>\u001b[0m in \u001b[0;36m<module>\u001b[0;34m()\u001b[0m\n\u001b[1;32m      8\u001b[0m                 \u001b[0mend_date\u001b[0m \u001b[0;34m=\u001b[0m \u001b[0;34m'2010-01-31'\u001b[0m\u001b[0;34m,\u001b[0m\u001b[0;34m\u001b[0m\u001b[0m\n\u001b[1;32m      9\u001b[0m                 exposure_point = '35.9131996,-79.0558445')\n\u001b[0;32m---> 10\u001b[0;31m \u001b[0mpprint\u001b[0m\u001b[0;34m.\u001b[0m\u001b[0mpprint\u001b[0m \u001b[0;34m(\u001b[0m\u001b[0mscores\u001b[0m\u001b[0;34m[\u001b[0m\u001b[0;34m:\u001b[0m\u001b[0;36m3\u001b[0m\u001b[0;34m]\u001b[0m\u001b[0;34m,\u001b[0m \u001b[0mindent\u001b[0m\u001b[0;34m=\u001b[0m\u001b[0;36m2\u001b[0m\u001b[0;34m)\u001b[0m\u001b[0;34m\u001b[0m\u001b[0m\n\u001b[0m",
      "\u001b[0;31mTypeError\u001b[0m: 'NoneType' object is not subscriptable"
     ]
    }
   ],
   "source": [
    "\"\"\"\n",
    "> Environmental-Exposures-KS (Scores):\n",
    "  Given an exposure type (pm25/o3), a date range, and a location, \n",
    "  return timeframes with corresponding exposure scores.\n",
    "\"\"\"\n",
    "scores = translator.exposures. \\\n",
    "    get_scores (exposure_type = 'pm25',\n",
    "                start_date = '2010-01-07',\n",
    "                end_date = '2010-01-31',\n",
    "                exposure_point = '35.9131996,-79.0558445')\n",
    "pprint.pprint (scores[:3], indent=2)"
   ]
  },
  {
   "cell_type": "code",
   "execution_count": 12,
   "metadata": {
    "collapsed": false,
    "deletable": true,
    "editable": true
   },
   "outputs": [
    {
     "name": "stdout",
     "output_type": "stream",
     "text": [
      "[ {'end_time': datetime.datetime(2010, 1, 7, 23, 0, tzinfo=tzutc()),\n",
      " 'exposure_type': 'pm25',\n",
      " 'latitude': '35.9131996',\n",
      " 'longitude': '-79.0558445',\n",
      " 'start_time': datetime.datetime(2010, 1, 7, 0, 0, tzinfo=tzutc()),\n",
      " 'units': 'ugm3',\n",
      " 'value': '17.7199974060059'},\n",
      "  {'end_time': datetime.datetime(2010, 1, 8, 23, 0, tzinfo=tzutc()),\n",
      " 'exposure_type': 'pm25',\n",
      " 'latitude': '35.9131996',\n",
      " 'longitude': '-79.0558445',\n",
      " 'start_time': datetime.datetime(2010, 1, 8, 0, 0, tzinfo=tzutc()),\n",
      " 'units': 'ugm3',\n",
      " 'value': '20.6830978393555'},\n",
      "  {'end_time': datetime.datetime(2010, 1, 9, 23, 0, tzinfo=tzutc()),\n",
      " 'exposure_type': 'pm25',\n",
      " 'latitude': '35.9131996',\n",
      " 'longitude': '-79.0558445',\n",
      " 'start_time': datetime.datetime(2010, 1, 9, 0, 0, tzinfo=tzutc()),\n",
      " 'units': 'ugm3',\n",
      " 'value': '22.1933155059814'}]\n"
     ]
    }
   ],
   "source": [
    "\"\"\"\n",
    "> Environmental-Exposures-KS (values):\n",
    "  Given an exposure type, a date range, and a location, return time bounded exposure values.\n",
    "\"\"\"\n",
    "values = translator. \\\n",
    "    get_exposures(). \\\n",
    "    get_exposure_values (exposure_type = 'pm25',\n",
    "                        start_date = '2010-01-07',\n",
    "                        end_date = '2010-01-31',\n",
    "                        exposure_point = '35.9131996,-79.0558445')\n",
    "pprint.pprint (values[:3], indent=2)"
   ]
  },
  {
   "cell_type": "code",
   "execution_count": 5,
   "metadata": {
    "collapsed": false,
    "deletable": true,
    "editable": true
   },
   "outputs": [
    {
     "name": "stdout",
     "output_type": "stream",
     "text": [
      "[ 'Dimethylformamide',\n",
      "  '3,4-Dihydroxycinnamic Acid',\n",
      "  '(5e,13e)-9,15-Dihydroxy-11-Oxoprosta-5,13-Dien-1-Oicacid',\n",
      "  'Glycerol',\n",
      "  'Carbachol',\n",
      "  'Imipramine',\n",
      "  'Clomipramine',\n",
      "  'Carbamyl-Choline',\n",
      "  'Acetaminophen',\n",
      "  'Cyclophosphamide']\n"
     ]
    }
   ],
   "source": [
    "\"\"\"\n",
    "CQ3. What pediatric medications are available that act on the protein (gene) targets and biological\n",
    "  pathways that are activated or inhibited by PM2.5 and ozone exposure?\n",
    "> Med-BioChem-KS:\n",
    "  - Get drugs by condition: \n",
    "\"\"\"\n",
    "drugs = translator.\\\n",
    "    get_medbiochem().\\\n",
    "    get_drugs_by_condition (conditions=[ \"d001249\" ])\n",
    "pprint.pprint (drugs[:10], indent=2)"
   ]
  },
  {
   "cell_type": "code",
   "execution_count": 6,
   "metadata": {
    "collapsed": false,
    "deletable": true,
    "editable": true,
    "scrolled": true
   },
   "outputs": [
    {
     "name": "stdout",
     "output_type": "stream",
     "text": [
      "[ { 'human  ': True,\n",
      "    'keggPath': 'http://chem2bio2rdf.org/kegg/resource/kegg_pathway/hsa00010',\n",
      "    'pathName': 'path:hsa00010 Glycolysis / Gluconeogenesis - Homo sapiens '\n",
      "                '(human)',\n",
      "    'uniprotGene': 'http://chem2bio2rdf.org/uniprot/resource/gene/ALDH2'},\n",
      "  { 'human  ': True,\n",
      "    'keggPath': 'http://chem2bio2rdf.org/kegg/resource/kegg_pathway/hsa00010',\n",
      "    'pathName': 'path:hsa00010 Glycolysis / Gluconeogenesis - Homo sapiens '\n",
      "                '(human)',\n",
      "    'uniprotGene': 'http://chem2bio2rdf.org/uniprot/resource/gene/ALDH2'},\n",
      "  { 'human  ': True,\n",
      "    'keggPath': 'http://chem2bio2rdf.org/kegg/resource/kegg_pathway/hsa00010',\n",
      "    'pathName': 'path:hsa00010 Glycolysis / Gluconeogenesis - Homo sapiens '\n",
      "                '(human)',\n",
      "    'uniprotGene': 'http://chem2bio2rdf.org/uniprot/resource/gene/ALDH2'}]\n"
     ]
    }
   ],
   "source": [
    "\"\"\"\n",
    "CQ2. What protein (gene) targets and biological pathways are activated or inhibited by PM2.5 and ozone exposure?\n",
    "> Med-BioChem-KS:\n",
    "  - Get genes and pathways assoicated with a set of conditions. \n",
    "\"\"\"\n",
    "conditions = [ 'd001249', 'd003371', 'd001249' ]\n",
    "genes_paths = translator.\\\n",
    "    get_medbiochem().\\\n",
    "    get_genes_pathways_by_disease (diseases = conditions)\n",
    "pprint.pprint (genes_paths[:3], indent=2)"
   ]
  },
  {
   "cell_type": "code",
   "execution_count": 7,
   "metadata": {
    "collapsed": false,
    "deletable": true,
    "editable": true
   },
   "outputs": [
    {
     "name": "stdout",
     "output_type": "stream",
     "text": [
      "[ { 'chemical': 'http://bio2rdf.org/mesh:D052638',\n",
      "    'gene': 'http://chem2bio2rdf.org/uniprot/resource/gene/NCF1',\n",
      "    'human': True,\n",
      "    'pathID': 'hsa04062',\n",
      "    'pathName': 'path:hsa04062 Chemokine signaling pathway - Homo sapiens '\n",
      "                '(human)',\n",
      "    'pathway': 'http://chem2bio2rdf.org/kegg/resource/kegg_pathway/hsa04062'},\n",
      "  { 'chemical': 'http://bio2rdf.org/mesh:D052638',\n",
      "    'gene': 'http://chem2bio2rdf.org/uniprot/resource/gene/NCF1',\n",
      "    'human': True,\n",
      "    'pathID': 'hsa04062',\n",
      "    'pathName': 'path:hsa04062 Chemokine signaling pathway - Homo sapiens '\n",
      "                '(human)',\n",
      "    'pathway': 'http://chem2bio2rdf.org/kegg/resource/kegg_pathway/hsa04062'},\n",
      "  { 'chemical': 'http://bio2rdf.org/mesh:D052638',\n",
      "    'gene': 'http://chem2bio2rdf.org/uniprot/resource/gene/COL1A1',\n",
      "    'human': True,\n",
      "    'pathID': 'hsa04510',\n",
      "    'pathName': 'path:hsa04510 Focal adhesion - Homo sapiens (human)',\n",
      "    'pathway': 'http://chem2bio2rdf.org/kegg/resource/kegg_pathway/hsa04510'},\n",
      "  { 'chemical': 'http://bio2rdf.org/mesh:D052638',\n",
      "    'gene': 'http://chem2bio2rdf.org/uniprot/resource/gene/COL1A1',\n",
      "    'human': True,\n",
      "    'pathID': 'hsa04510',\n",
      "    'pathName': 'path:hsa04510 Focal adhesion - Homo sapiens (human)',\n",
      "    'pathway': 'http://chem2bio2rdf.org/kegg/resource/kegg_pathway/hsa04510'},\n",
      "  { 'chemical': 'http://bio2rdf.org/mesh:D052638',\n",
      "    'gene': 'http://chem2bio2rdf.org/uniprot/resource/gene/COL1A1',\n",
      "    'human': True,\n",
      "    'pathID': 'hsa04510',\n",
      "    'pathName': 'path:hsa04510 Focal adhesion - Homo sapiens (human)',\n",
      "    'pathway': 'http://chem2bio2rdf.org/kegg/resource/kegg_pathway/hsa04510'}]\n"
     ]
    }
   ],
   "source": [
    "\"\"\" Get genes and pathways involved in exposure to a chemical. We'll use this to determine the \n",
    "    effects of PM2.5, or, more generally, of 'Particulate Matter', the MeSH term. \"\"\" \n",
    "exposures = translator.\\\n",
    "    get_medbiochem().\\\n",
    "    get_exposure_conditions (chemicals = [ 'D052638' ])\n",
    "pprint.pprint (exposures[:5], indent=2)"
   ]
  },
  {
   "cell_type": "code",
   "execution_count": 8,
   "metadata": {
    "collapsed": false,
    "deletable": true,
    "editable": true
   },
   "outputs": [
    {
     "name": "stdout",
     "output_type": "stream",
     "text": [
      "prefix chemgene: <http://chem2bio2rdf.org/ctd/resource/ctd_chem_gene/>\n",
      "prefix mesh:     <http://bio2rdf.org/mesh:>\n",
      "prefix ctd:      <http://chem2bio2rdf.org/ctd/resource/>\n",
      "prefix kegg:     <http://chem2bio2rdf.org/kegg/resource/>\n",
      "prefix pharmgkb: <http://chem2bio2rdf.org/pharmgkb/resource/>\n",
      "\n",
      "select ?chemical ?gene ?kegg_pathway ?pathway_name ?pathway_id where {\n",
      "\n",
      "   values ( ?chemical ) {\n",
      "      $chemicals\n",
      "   }\n",
      "\n",
      "   ?chemgene      ctd:chemicalid       ?chemical ;\n",
      "                  ctd:interaction      ?interaction ;\n",
      "                  ctd:interactiontypes ?interaction_types;\n",
      "                  ctd:gene             ?gene .\n",
      " \n",
      "   ?pharmgkb_gene pharmgkb:Symbol      ?gene ;\n",
      "                  pharmgkb:UniProt_Id  ?uniprotid .\n",
      "   \n",
      "   ?kegg_pathway  kegg:protein         ?uniprotid ;\n",
      "                  kegg:Pathway_name    ?pathway_name ;\n",
      "                  kegg:description     ?pathway_descr ;\n",
      "                  kegg:pathwayid       ?pathway_id ;\n",
      "                  kegg:ID              ?pathway_nid .\n",
      "}\n"
     ]
    }
   ],
   "source": [
    "print (open ('greentranslator/query/ctd_gene_expo_disease.sparql').read ())"
   ]
  },
  {
   "cell_type": "code",
   "execution_count": 9,
   "metadata": {
    "collapsed": false,
    "deletable": true,
    "editable": true
   },
   "outputs": [
    {
     "name": "stdout",
     "output_type": "stream",
     "text": [
      "prefix kegg:      <http://chem2bio2rdf.org/kegg/resource/>\n",
      "prefix pharmgkb:  <http://chem2bio2rdf.org/pharmgkb/resource/>\n",
      "prefix drugbank:  <http://chem2bio2rdf.org/drugbank/resource/>\n",
      "prefix pubchem:   <http://chem2bio2rdf.org/pubchem/resource/>\n",
      "prefix ctd:       <http://chem2bio2rdf.org/ctd/resource/>\n",
      "prefix omim:      <http://chem2bio2rdf.org/omim/resource/>\n",
      "prefix mesh:      <http://bio2rdf.org/mesh:>\n",
      "\n",
      "select ?diseaseID ?drugGenericName ?swissProtID ?uniprotGeneID ?geneBankID ?pathwayName ?keggPath where {\n",
      "\n",
      "    ?keggPath    kegg:protein                ?swissProtID ;\n",
      "                 kegg:Pathway_name           ?pathwayName .\n",
      "    ?keggInter   kegg:cid                    ?pubchemCID .\n",
      "\n",
      "    ?dbInter     drugbank:GeneBank_ID        ?geneBankID ;\n",
      "                 drugbank:SwissProt_ID       ?swissProtID ;\n",
      "                 drugbank:gene               ?uniprotGeneID ;\n",
      "                 drugbank:Name               ?name ;\n",
      "                 drugbank:DBID               ?drugID .\n",
      "  \n",
      "    ?drugID      drugbank:CID                ?pubchemCID ;\n",
      "                 drugbank:Generic_Name       ?drugGenericName .\n",
      "\n",
      "    ?ctd_disease ctd:diseaseid               ?diseaseID ;\n",
      "                 ctd:cid                     ?pubchemCID .\n",
      " \n",
      "    values ( ?diseaseID ) {\n",
      "        ${diseaseMeshIDList}\n",
      "#            ( mesh:d001249 ) ( mesh:d003371 ) ( mesh:d001249 )\n",
      "    }\n",
      "}\n",
      "ORDER BY ?diseaseName\n",
      "\n"
     ]
    }
   ],
   "source": [
    "print (open('greentranslator/query/genes_pathways_by_disease.sparql').read ())"
   ]
  },
  {
   "cell_type": "code",
   "execution_count": null,
   "metadata": {
    "collapsed": true,
    "deletable": true,
    "editable": true
   },
   "outputs": [],
   "source": []
  }
 ],
 "metadata": {
  "kernelspec": {
   "display_name": "Python 3",
   "language": "python",
   "name": "python3"
  },
  "language_info": {
   "codemirror_mode": {
    "name": "ipython",
    "version": 3
   },
   "file_extension": ".py",
   "mimetype": "text/x-python",
   "name": "python",
   "nbconvert_exporter": "python",
   "pygments_lexer": "ipython3",
   "version": "3.6.0"
  }
 },
 "nbformat": 4,
 "nbformat_minor": 2
}
